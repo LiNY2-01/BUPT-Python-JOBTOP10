{
 "cells": [
  {
   "cell_type": "markdown",
   "metadata": {},
   "source": [
    "## 数据预处理"
   ]
  },
  {
   "cell_type": "code",
   "execution_count": 19,
   "metadata": {},
   "outputs": [],
   "source": [
    "import pandas as pd\n",
    "import numpy as np\n",
    "XDUdf = pd.read_csv('./XIDIAN_ok.csv', sep=',',\n",
    "                    header=0, encoding='utf-8')\n",
    "BUPTdf = pd.read_csv('./BEIYOU_ok.csv', sep=',',\n",
    "                    header=0, encoding='utf-8')\n",
    "UESTCdf = pd.read_csv('./CHENGDIAN_ok.csv', sep=',',\n",
    "                     header=0, encoding='utf-8')\n",
    "\n",
    "def pre_handle(jobdf):\n",
    "    for index, row in jobdf.iterrows():\n",
    "        jobdf.loc[index, 'job_title'] = row['job_title'].strip(' \\n\\t-。.')\n",
    "        #去除不必要字符\n",
    "pre_handle(XDUdf)\n",
    "pre_handle(BUPTdf)\n",
    "pre_handle(UESTCdf)\n"
   ]
  },
  {
   "cell_type": "markdown",
   "metadata": {},
   "source": [
    "### 排序和去重"
   ]
  },
  {
   "cell_type": "code",
   "execution_count": 20,
   "metadata": {},
   "outputs": [],
   "source": [
    "def del_repet(jobdf,school_cnt=False):\n",
    "    jobdf=jobdf.sort_values(['job_title'], ascending=False)\n",
    "    jobdf=jobdf.reset_index(drop=True)\n",
    "    #排序，按名称排序，第二关键字是时间升序\n",
    "    now_title=''\n",
    "    now_index=-1\n",
    "    for index, row in jobdf.iterrows():\n",
    "        if row['job_title']!=now_title:\n",
    "            now_index=index\n",
    "            now_title=row['job_title']\n",
    "        else:       \n",
    "            jobdf.loc[now_index,'job_views'] += row['job_views']\n",
    "            if school_cnt:\n",
    "                jobdf.loc[now_index, 'school_cnt'] += row['school_cnt']\n",
    "            jobdf.drop(index, inplace=True)\n",
    "    return jobdf\n",
    "    #去重算法，相同帖子访问量累加\n",
    "XDUdf=del_repet(XDUdf)\n",
    "BUPTdf=del_repet(BUPTdf)\n",
    "UESTCdf=del_repet(UESTCdf)\n",
    "\n"
   ]
  },
  {
   "cell_type": "markdown",
   "metadata": {},
   "source": [
    "## 数据合并"
   ]
  },
  {
   "cell_type": "code",
   "execution_count": 21,
   "metadata": {},
   "outputs": [],
   "source": [
    "mergeddf=pd.concat([XDUdf,BUPTdf.drop('job_nums',axis=1),UESTCdf],axis=0,ignore_index=True)\n",
    "#将三个df合并\n",
    "mergeddf.insert(3, 'school_cnt',1)\n",
    "#加入雇主发贴学校计数\n",
    "mergeddf=del_repet(mergeddf,school_cnt=True)\n",
    "JOBmerged = pd.ExcelWriter('./JOBmerged.xlsx', engine=\"openpyxl\")\n",
    "workbook = JOBmerged.book\n",
    "XDUdf.index.name = \"序号\"\n",
    "BUPTdf.index.name = \"序号\"\n",
    "UESTCdf.index.name = \"序号\"\n",
    "mergeddf.index.name = \"序号\"\n",
    "XDUdf.columns = [\"招聘主题\", \"发布时间\", \"关注度（浏览次数）\"]\n",
    "BUPTdf.columns = [\"招聘主题\", \"发布时间\", \"关注度（浏览次数）\",\"职位个数\"]\n",
    "UESTCdf.columns = [\"招聘主题\", \"发布时间\", \"关注度（浏览次数）\"]\n",
    "mergeddf.columns = [\"招聘主题\", \"发布时间\", \"关注度（浏览次数）\",\"学校计数\"]\n",
    "\n",
    "BUPTdf.to_excel(JOBmerged, sheet_name='北邮', encoding='GB2312')\n",
    "XDUdf.to_excel(JOBmerged, sheet_name='西电', encoding='GB2312')\n",
    "\n",
    "UESTCdf.to_excel(JOBmerged, sheet_name='成电', encoding='GB2312')\n",
    "mergeddf.to_excel(JOBmerged, sheet_name='分类', encoding='GB2312')\n",
    "JOBmerged.save()\n"
   ]
  },
  {
   "cell_type": "markdown",
   "metadata": {},
   "source": [
    "## 得出TOP榜单"
   ]
  },
  {
   "cell_type": "code",
   "execution_count": 1,
   "metadata": {},
   "outputs": [
    {
     "ename": "NameError",
     "evalue": "name 'pd' is not defined",
     "output_type": "error",
     "traceback": [
      "\u001b[1;31m---------------------------------------------------------------------------\u001b[0m",
      "\u001b[1;31mNameError\u001b[0m                                 Traceback (most recent call last)",
      "\u001b[1;32m~\\AppData\\Local\\Temp/ipykernel_19176/1977875613.py\u001b[0m in \u001b[0;36m<module>\u001b[1;34m\u001b[0m\n\u001b[1;32m----> 1\u001b[1;33m \u001b[0mJOBanalysis\u001b[0m \u001b[1;33m=\u001b[0m \u001b[0mpd\u001b[0m\u001b[1;33m.\u001b[0m\u001b[0mExcelWriter\u001b[0m\u001b[1;33m(\u001b[0m\u001b[1;34m'./JOBanalysis.xlsx'\u001b[0m\u001b[1;33m,\u001b[0m \u001b[0mengine\u001b[0m\u001b[1;33m=\u001b[0m\u001b[1;34m\"openpyxl\"\u001b[0m\u001b[1;33m)\u001b[0m\u001b[1;33m\u001b[0m\u001b[1;33m\u001b[0m\u001b[0m\n\u001b[0m\u001b[0;32m      2\u001b[0m \u001b[1;33m\u001b[0m\u001b[0m\n\u001b[0;32m      3\u001b[0m \u001b[0mXDUdf\u001b[0m \u001b[1;33m=\u001b[0m \u001b[0mXDUdf\u001b[0m\u001b[1;33m.\u001b[0m\u001b[0msort_values\u001b[0m\u001b[1;33m(\u001b[0m\u001b[1;33m[\u001b[0m\u001b[1;34m'关注度（浏览次数）'\u001b[0m\u001b[1;33m]\u001b[0m\u001b[1;33m,\u001b[0m \u001b[0mascending\u001b[0m\u001b[1;33m=\u001b[0m\u001b[1;32mFalse\u001b[0m\u001b[1;33m)\u001b[0m\u001b[1;33m.\u001b[0m\u001b[0mhead\u001b[0m\u001b[1;33m(\u001b[0m\u001b[1;36m20\u001b[0m\u001b[1;33m)\u001b[0m\u001b[1;33m\u001b[0m\u001b[1;33m\u001b[0m\u001b[0m\n\u001b[0;32m      4\u001b[0m \u001b[0mUESTCdf\u001b[0m\u001b[1;33m=\u001b[0m\u001b[0mUESTCdf\u001b[0m\u001b[1;33m.\u001b[0m\u001b[0msort_values\u001b[0m\u001b[1;33m(\u001b[0m\u001b[1;33m[\u001b[0m\u001b[1;34m'关注度（浏览次数）'\u001b[0m\u001b[1;33m]\u001b[0m\u001b[1;33m,\u001b[0m\u001b[0mascending\u001b[0m\u001b[1;33m=\u001b[0m\u001b[1;32mFalse\u001b[0m\u001b[1;33m)\u001b[0m\u001b[1;33m.\u001b[0m\u001b[0mhead\u001b[0m\u001b[1;33m(\u001b[0m\u001b[1;36m20\u001b[0m\u001b[1;33m)\u001b[0m\u001b[1;33m\u001b[0m\u001b[1;33m\u001b[0m\u001b[0m\n\u001b[0;32m      5\u001b[0m \u001b[0mBUPT_TOP20viewdf\u001b[0m \u001b[1;33m=\u001b[0m \u001b[0mBUPTdf\u001b[0m\u001b[1;33m.\u001b[0m\u001b[0msort_values\u001b[0m\u001b[1;33m(\u001b[0m\u001b[1;33m[\u001b[0m\u001b[1;34m'关注度（浏览次数）'\u001b[0m\u001b[1;33m]\u001b[0m\u001b[1;33m,\u001b[0m \u001b[0mascending\u001b[0m\u001b[1;33m=\u001b[0m\u001b[1;32mFalse\u001b[0m\u001b[1;33m)\u001b[0m\u001b[1;33m.\u001b[0m\u001b[0mhead\u001b[0m\u001b[1;33m(\u001b[0m\u001b[1;36m20\u001b[0m\u001b[1;33m)\u001b[0m\u001b[1;33m\u001b[0m\u001b[1;33m\u001b[0m\u001b[0m\n",
      "\u001b[1;31mNameError\u001b[0m: name 'pd' is not defined"
     ]
    }
   ],
   "source": [
    "JOBanalysis = pd.ExcelWriter('./JOBanalysis.xlsx', engine=\"openpyxl\")\n",
    "\n",
    "XDUdf = XDUdf.sort_values(['关注度（浏览次数）'], ascending=False).head(20)\n",
    "UESTCdf=UESTCdf.sort_values(['关注度（浏览次数）'],ascending=False).head(20)\n",
    "BUPT_TOP20viewdf = BUPTdf.sort_values(['关注度（浏览次数）'], ascending=False).head(20)\n",
    "BUPT_TOP10numdf = BUPTdf.sort_values(['职位个数'], ascending=False).head(10)\n",
    "mergeddf=mergeddf[mergeddf['学校计数'] == 3]\n",
    "mergeddf = mergeddf.sort_values(['关注度（浏览次数）'], ascending=False)\n",
    "XDUdf = XDUdf.reset_index(drop=True)\n",
    "BUPT_TOP20viewdf = BUPT_TOP20viewdf.reset_index(drop=True)\n",
    "BUPT_TOP10numdf = BUPT_TOP10numdf.reset_index(drop=True)\n",
    "UESTCdf = UESTCdf.reset_index(drop=True)\n",
    "mergeddf = mergeddf.reset_index(drop=True)\n",
    "\n",
    "\n",
    "workbook = JOBanalysis.book\n",
    "BUPT_TOP20viewdf.to_excel(JOBanalysis, sheet_name='北邮0', encoding='GB2312')\n",
    "BUPT_TOP10numdf.to_excel(JOBanalysis, sheet_name='北邮1', encoding='GB2312')\n",
    "XDUdf.to_excel(JOBanalysis, sheet_name='西电', encoding='GB2312')\n",
    "UESTCdf.to_excel(JOBanalysis, sheet_name='成电', encoding='GB2312')\n",
    "mergeddf.to_excel(JOBanalysis, sheet_name='三校', encoding='GB2312')\n",
    "\n",
    "XDUsheet = workbook['西电']\n",
    "XDUsheet.insert_rows(1)\n",
    "XDUsheet['A1'].value = \"最受西电学生关注的招聘TOP20\"\n",
    "XDUsheet.merge_cells(\"A1:D1\")\n",
    "\n",
    "BUPT_TOP20viewsheet = workbook['北邮0']\n",
    "BUPT_TOP20viewsheet.insert_rows(1)\n",
    "BUPT_TOP20viewsheet['A1'].value = \"最受北邮学生关注的招聘TOP20\"\n",
    "BUPT_TOP20viewsheet.merge_cells(\"A1:E1\")\n",
    "\n",
    "\n",
    "BUPT_TOP10numdfsheet = workbook['北邮1']\n",
    "BUPT_TOP10numdfsheet.insert_rows(1)\n",
    "BUPT_TOP10numdfsheet['A1'].value = \"北邮招聘职位数量TOP10\"\n",
    "BUPT_TOP20viewsheet.merge_cells(\"A1:E1\")\n",
    "\n",
    "\n",
    "UESTCsheet = workbook['成电']\n",
    "UESTCsheet.insert_rows(1)\n",
    "UESTCsheet['A1'].value = \"最受成电学生关注的招聘TOP20\"\n",
    "UESTCsheet.merge_cells(\"A1:D1\")\n",
    "\n",
    "mergedsheet = workbook['三校']\n",
    "mergedsheet.insert_rows(1)\n",
    "mergedsheet['A1'].value = \"在三校均发布招聘信息的雇主\"\n",
    "mergedsheet.merge_cells(\"A1:E1\")\n",
    "\n",
    "JOBanalysis.save()\n"
   ]
  }
 ],
 "metadata": {
  "interpreter": {
   "hash": "5b6ead8fe4269cc1f35db5549969cb8aabae398df348e7dafee6eb1aa5015680"
  },
  "kernelspec": {
   "display_name": "Python 3.8.12 64-bit ('craw': conda)",
   "language": "python",
   "name": "python3"
  },
  "language_info": {
   "codemirror_mode": {
    "name": "ipython",
    "version": 3
   },
   "file_extension": ".py",
   "mimetype": "text/x-python",
   "name": "python",
   "nbconvert_exporter": "python",
   "pygments_lexer": "ipython3",
   "version": "3.8.12"
  },
  "orig_nbformat": 4
 },
 "nbformat": 4,
 "nbformat_minor": 2
}
