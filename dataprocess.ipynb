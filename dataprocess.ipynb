{
 "cells": [
  {
   "cell_type": "markdown",
   "metadata": {},
   "source": [
    "## 数据预处理"
   ]
  },
  {
   "cell_type": "code",
   "execution_count": 9,
   "metadata": {},
   "outputs": [],
   "source": [
    "import pandas as pd\n",
    "import numpy as np\n",
    "XDUdf = pd.read_csv('./XIDIAN_ok.csv', sep=',',\n",
    "                    header=0, encoding='utf-8')\n",
    "BUPTdf = pd.read_csv('./BEIYOU_ok.csv', sep=',',\n",
    "                    header=0, encoding='utf-8')\n",
    "UESTCdf = pd.read_csv('./CHENGDIAN_ok.csv', sep=',',\n",
    "                     header=0, encoding='utf-8')\n",
    "\n",
    "def pre_handle(jobdf):\n",
    "    for index, row in jobdf.iterrows():\n",
    "        jobdf.loc[index, 'job_title'] = row['job_title'].strip(' \\n\\t-。.')\n",
    "        #去除不必要字符\n",
    "pre_handle(XDUdf)\n",
    "pre_handle(BUPTdf)\n",
    "pre_handle(UESTCdf)\n"
   ]
  },
  {
   "cell_type": "markdown",
   "metadata": {},
   "source": [
    "### 排序和去重"
   ]
  },
  {
   "cell_type": "code",
   "execution_count": 10,
   "metadata": {},
   "outputs": [],
   "source": [
    "def del_repet(jobdf):\n",
    "    jobdf.sort_values(['job_title'], ascending=False)\n",
    "    jobdf.reset_index(drop=True)\n",
    "    #排序，按名称排序，第二关键字是时间升序\n",
    "    now_title=''\n",
    "    now_index=-1\n",
    "    for index, row in jobdf.iterrows():\n",
    "        if row['job_title']!=now_title:\n",
    "            now_index=index\n",
    "            now_title=row['job_title']\n",
    "        else:\n",
    "            jobdf.loc[now_index,'job_views'] += row['job_views']\n",
    "            jobdf.drop(index, inplace=True)\n",
    "    #去重算法，相同帖子访问量累加\n",
    "    \n",
    "\n",
    "del_repet(XDUdf)\n",
    "del_repet(BUPTdf)\n",
    "del_repet(UESTCdf)\n"
   ]
  }
 ],
 "metadata": {
  "interpreter": {
   "hash": "5b6ead8fe4269cc1f35db5549969cb8aabae398df348e7dafee6eb1aa5015680"
  },
  "kernelspec": {
   "display_name": "Python 3.8.12 64-bit ('craw': conda)",
   "language": "python",
   "name": "python3"
  },
  "language_info": {
   "codemirror_mode": {
    "name": "ipython",
    "version": 3
   },
   "file_extension": ".py",
   "mimetype": "text/x-python",
   "name": "python",
   "nbconvert_exporter": "python",
   "pygments_lexer": "ipython3",
   "version": "3.8.12"
  },
  "orig_nbformat": 4
 },
 "nbformat": 4,
 "nbformat_minor": 2
}
